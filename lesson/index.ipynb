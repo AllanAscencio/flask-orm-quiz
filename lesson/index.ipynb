{
 "cells": [
  {
   "cell_type": "markdown",
   "id": "0f33ae3d-28b2-435f-8bae-8b20872c1639",
   "metadata": {},
   "source": [
    "# Flask Relations Quiz"
   ]
  },
  {
   "cell_type": "markdown",
   "id": "f37a43d4-a289-47ab-b082-20d9f71d195d",
   "metadata": {},
   "source": [
    "### Introduction"
   ]
  },
  {
   "cell_type": "markdown",
   "id": "3d995e90-7851-4a44-ad9c-293ee254da86",
   "metadata": {},
   "source": [
    "### Loading Data"
   ]
  },
  {
   "cell_type": "markdown",
   "id": "06e56177-f3fd-47f0-8f63-359a187e470d",
   "metadata": {},
   "source": [
    "> Begin by changing to your postgres username, or just input postgres.   "
   ]
  },
  {
   "cell_type": "code",
   "execution_count": 1,
   "id": "5b94e9c7-3021-4693-ae9f-50eb7e40a275",
   "metadata": {},
   "outputs": [],
   "source": [
    "from sqlalchemy import create_engine\n",
    "username = 'postgres'\n",
    "\n",
    "conn_string = f'postgresql://{username}@localhost/imdb_movies'\n",
    "\n",
    "conn = create_engine(conn_string, echo = True)\n",
    "# df.to_sql('raw_transactions', conn, if_exists='replace')"
   ]
  },
  {
   "cell_type": "code",
   "execution_count": 1,
   "id": "6bfe78b8-2bbc-4778-bae5-00c4962bb9e7",
   "metadata": {},
   "outputs": [],
   "source": [
    "import pandas as pd\n",
    "root_url = \"https://raw.githubusercontent.com/jigsawlabs-student/curriculum-images/main/has-many-movies-lab/\"\n",
    "names = ['actors', 'directors', 'movies', 'writers', 'movie_actors', 'movie_directors', 'movie_writers']\n",
    "# loaded_dfs = [pd.read_csv(f'{root_url}{name}.csv') for name in names]"
   ]
  },
  {
   "cell_type": "code",
   "execution_count": null,
   "id": "09e36ba3-f1bc-4356-83e0-5f787d44a94d",
   "metadata": {},
   "outputs": [],
   "source": [
    "for index, name in enumerate(names):\n",
    "    loaded_dfs[index].to_sql(f'{name}', conn, index = False)\n",
    "    conn.execute('ALTER TABLE schema.table ADD PRIMARY KEY (keycolumn);')"
   ]
  },
  {
   "cell_type": "markdown",
   "id": "bfde797d-1035-413f-8a87-3d8e8c893330",
   "metadata": {},
   "source": [
    "Then connect to postgres and connect to the database."
   ]
  },
  {
   "cell_type": "markdown",
   "id": "90b4fbbd-8513-4845-bef8-46959742f73b",
   "metadata": {},
   "source": [
    "imdb_movies```bash\n",
    "psql -d imdb_movies\n",
    "```"
   ]
  },
  {
   "cell_type": "markdown",
   "id": "94d58d6a-1728-4acf-9feb-8266249d2306",
   "metadata": {},
   "source": [
    "Then confirm that the tables have been created."
   ]
  },
  {
   "cell_type": "markdown",
   "id": "1a49c4a7-ac15-4ef9-a6bf-788d546eea06",
   "metadata": {},
   "source": [
    "<img src=\"./tables.png\" width=\"50%\">"
   ]
  },
  {
   "cell_type": "code",
   "execution_count": 1,
   "id": "1210fda2-a8cd-48ad-a60a-dd3da0acbef7",
   "metadata": {},
   "outputs": [],
   "source": [
    "import pandas as pd\n",
    "import psycopg2\n",
    "import warnings\n",
    "warnings.filterwarnings('ignore')\n",
    "\n",
    "conn = psycopg2.connect(dbname='imdb_movies')\n",
    "sample_df = pd.read_sql(\"\"\"select * from movies limit 10\"\"\", conn)"
   ]
  },
  {
   "cell_type": "markdown",
   "id": "23271025-5de0-4a7b-97bc-62940787cead",
   "metadata": {},
   "source": [
    "We should also create our test database.  First create a test database by connecting to postgres, and issuing the following command."
   ]
  },
  {
   "cell_type": "markdown",
   "id": "fe817d11-4806-4d4a-b557-3f6284ea3781",
   "metadata": {},
   "source": [
    "```bash\n",
    "create database imdb_movies_test;\n",
    "```"
   ]
  },
  {
   "cell_type": "markdown",
   "id": "0474dd56-27b2-41b7-8008-1f41a53d040d",
   "metadata": {},
   "source": [
    "Then **log out of postgres**, and from bash, run the following."
   ]
  },
  {
   "cell_type": "markdown",
   "id": "af41db7f-8e3e-4f14-a144-f8652527ced2",
   "metadata": {},
   "source": [
    "> This will copy the tables and their structure to our `imdb_movies_test` database."
   ]
  },
  {
   "cell_type": "markdown",
   "id": "b9df743a-d878-4953-862e-f9e70fd6450c",
   "metadata": {},
   "source": [
    "```bash\n",
    "pg_dump -t actors imdb_movies | psql imdb_movies_test\n",
    "pg_dump -t directors imdb_movies | psql imdb_movies_test\n",
    "pg_dump -t movie_actors imdb_movies | psql imdb_movies_test\n",
    "pg_dump -t movie_directors imdb_movies | psql imdb_movies_test\n",
    "pg_dump -t movies imdb_movies | psql imdb_movies_test\n",
    "pg_dump -t writers imdb_movies | psql imdb_movies_test\n",
    "```"
   ]
  },
  {
   "cell_type": "markdown",
   "id": "d5d444b0-d4c1-4ddd-b688-ca9550a93650",
   "metadata": {},
   "source": [
    "# Building our initial resource"
   ]
  },
  {
   "cell_type": "markdown",
   "id": "88405749-2009-48b1-86e5-62e55c7422d7",
   "metadata": {},
   "source": [
    "Ok, now let's move onto our flask application."
   ]
  },
  {
   "cell_type": "markdown",
   "id": "ca30c183-93e5-4a68-8f3e-e93392ccc619",
   "metadata": {},
   "source": [
    "### A. Building the data layer (models and orm)"
   ]
  },
  {
   "cell_type": "markdown",
   "id": "b290584a-fe6a-414f-8ec8-f2382f6894a4",
   "metadata": {},
   "source": [
    "1. Building the first model\n",
    "\n",
    "> For the following, pass the relevant tests in the `test_movie.py` file.\n",
    "\n",
    "* Create the Movie model\n",
    "    * Allow the movie to take mass assignment, so that we can initialize the model like so\n",
    "        * `Movie(title = 'Fast and the Furious', runtime = 83)`\n",
    "    * Set the properties of\n",
    "        * `__table__ = 'movies'`\n",
    "        * `columns = [\"id\", \"title\", \"studio\", \"runtime\", \"description\", \"release_date\", \"year\"] `\n",
    "    \n",
    "    "
   ]
  },
  {
   "cell_type": "markdown",
   "id": "6f909b57-3477-4cb7-a128-7dbfb32cf9a6",
   "metadata": {},
   "source": [
    "2. Adding some utility methods"
   ]
  },
  {
   "cell_type": "markdown",
   "id": "b3d158e2-c87b-4648-91b9-272307de6c2c",
   "metadata": {},
   "source": [
    "Ok, now let's add some methods to our orm.py file.  Please **do not** look at past labs/readings for this. \n",
    "\n",
    "* `find_all(cursor, Class, limit = 10)`\n",
    "    * Should return a list of instances, and also take a argument of limit, with a default value set to 50, so that it only returns the first 50 instances from the corresponding class/table.  It should query the database to retrieve the records.  \n",
    "    \n",
    "* `find(cursor, Class, limit)`\n",
    "    * Returns the specified instance."
   ]
  },
  {
   "cell_type": "markdown",
   "id": "1eabafe6-1338-460c-858c-1e7a3f1d4f59",
   "metadata": {},
   "source": [
    "### 2. Building the Flask Application"
   ]
  },
  {
   "cell_type": "markdown",
   "id": "3b62b9e9-a6cf-4071-9985-4770ec21efdd",
   "metadata": {},
   "source": [
    "1. Begin by initializing a flask application.  Write it in the `api/__init__.py` file and use the `create_app` function, that takes an argument of the database name.  Create a `run.py` file that initializes tha app.\n",
    "\n",
    "2. Create a route (ie. an endpoint) such that the `root_url` returns the following string `welcome to the imdb movies app`.\n"
   ]
  },
  {
   "cell_type": "markdown",
   "id": "096738fd-f9ab-40e4-a958-0b462e8642fb",
   "metadata": {},
   "source": [
    "> You can test this, and following routes by running the `test_app.py` file."
   ]
  },
  {
   "cell_type": "markdown",
   "id": "0e75268d-0b71-422f-8e56-f9a50191c508",
   "metadata": {},
   "source": [
    "3. Show by title\n",
    "\n",
    "* Next create a route `/movies/title` where we can pass through a title like `Fast and the Furious: 2` and it will return a dictionary of the corresponding movie (reference the corresponding test)."
   ]
  },
  {
   "cell_type": "markdown",
   "id": "83d4159f-85b8-41ab-a27b-a9e35fda9692",
   "metadata": {},
   "source": [
    "4. Bonus points for connecting to the database using the correct setup (ie. `.env` file, `settings.py` file, and an app.config.from_mapping like so:\n",
    "\n",
    "```python\n",
    "app.config.from_mapping(\n",
    "    DATABASE= DB_NAME\n",
    ")\n",
    "```"
   ]
  },
  {
   "cell_type": "code",
   "execution_count": null,
   "id": "1b135148-a703-4cf6-9aca-cb0ac40e9504",
   "metadata": {},
   "outputs": [],
   "source": []
  }
 ],
 "metadata": {
  "kernelspec": {
   "display_name": "Python 3 (ipykernel)",
   "language": "python",
   "name": "python3"
  },
  "language_info": {
   "codemirror_mode": {
    "name": "ipython",
    "version": 3
   },
   "file_extension": ".py",
   "mimetype": "text/x-python",
   "name": "python",
   "nbconvert_exporter": "python",
   "pygments_lexer": "ipython3",
   "version": "3.9.12"
  }
 },
 "nbformat": 4,
 "nbformat_minor": 5
}
