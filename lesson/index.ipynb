{
 "cells": [
  {
   "cell_type": "markdown",
   "id": "0f33ae3d-28b2-435f-8bae-8b20872c1639",
   "metadata": {},
   "source": [
    "# Flask Relations Quiz"
   ]
  },
  {
   "cell_type": "markdown",
   "id": "f37a43d4-a289-47ab-b082-20d9f71d195d",
   "metadata": {},
   "source": [
    "### Introduction"
   ]
  },
  {
   "cell_type": "markdown",
   "id": "3d995e90-7851-4a44-ad9c-293ee254da86",
   "metadata": {},
   "source": [
    "### Loading Data"
   ]
  },
  {
   "cell_type": "markdown",
   "id": "06e56177-f3fd-47f0-8f63-359a187e470d",
   "metadata": {},
   "source": [
    "> Begin by changing to your postgres username, or just input postgres.   "
   ]
  },
  {
   "cell_type": "code",
   "execution_count": 21,
   "id": "ebd67bd5-ca6e-4efb-bd56-2575e46561dd",
   "metadata": {},
   "outputs": [],
   "source": [
    "username = 'postgres'"
   ]
  },
  {
   "cell_type": "code",
   "execution_count": 25,
   "id": "5b94e9c7-3021-4693-ae9f-50eb7e40a275",
   "metadata": {},
   "outputs": [],
   "source": [
    "from sqlalchemy import create_engine\n",
    "\n",
    "conn_string = f'postgresql://{username}@localhost/imdb_movies'\n",
    "\n",
    "conn = create_engine(conn_string, echo = True)\n",
    "# df.to_sql('raw_transactions', conn, if_exists='replace')"
   ]
  },
  {
   "cell_type": "markdown",
   "id": "bfde797d-1035-413f-8a87-3d8e8c893330",
   "metadata": {},
   "source": [
    "Then connect to postgres and connect to the database."
   ]
  },
  {
   "cell_type": "markdown",
   "id": "90b4fbbd-8513-4845-bef8-46959742f73b",
   "metadata": {},
   "source": [
    "imdb_movies```bash\n",
    "psql -d imdb_movies\n",
    "```"
   ]
  },
  {
   "cell_type": "markdown",
   "id": "94d58d6a-1728-4acf-9feb-8266249d2306",
   "metadata": {},
   "source": [
    "Then confirm that the tables have been created."
   ]
  },
  {
   "cell_type": "markdown",
   "id": "1a49c4a7-ac15-4ef9-a6bf-788d546eea06",
   "metadata": {},
   "source": [
    "<img src=\"./tables.png\" width=\"50%\">"
   ]
  },
  {
   "cell_type": "code",
   "execution_count": 24,
   "id": "1210fda2-a8cd-48ad-a60a-dd3da0acbef7",
   "metadata": {},
   "outputs": [
    {
     "data": {
      "text/html": [
       "<div>\n",
       "<style scoped>\n",
       "    .dataframe tbody tr th:only-of-type {\n",
       "        vertical-align: middle;\n",
       "    }\n",
       "\n",
       "    .dataframe tbody tr th {\n",
       "        vertical-align: top;\n",
       "    }\n",
       "\n",
       "    .dataframe thead th {\n",
       "        text-align: right;\n",
       "    }\n",
       "</style>\n",
       "<table border=\"1\" class=\"dataframe\">\n",
       "  <thead>\n",
       "    <tr style=\"text-align: right;\">\n",
       "      <th></th>\n",
       "      <th>id</th>\n",
       "      <th>title</th>\n",
       "      <th>studio</th>\n",
       "      <th>runtime</th>\n",
       "      <th>description</th>\n",
       "      <th>release_date</th>\n",
       "      <th>year</th>\n",
       "    </tr>\n",
       "  </thead>\n",
       "  <tbody>\n",
       "    <tr>\n",
       "      <th>0</th>\n",
       "      <td>11784</td>\n",
       "      <td>!Women Art Revolution</td>\n",
       "      <td>Zeitgeist Films</td>\n",
       "      <td>83.0</td>\n",
       "      <td>Through intimate interviews, art, and rarely s...</td>\n",
       "      <td>2011-06-01 00:00:00</td>\n",
       "      <td>2011</td>\n",
       "    </tr>\n",
       "  </tbody>\n",
       "</table>\n",
       "</div>"
      ],
      "text/plain": [
       "      id                  title           studio  runtime  \\\n",
       "0  11784  !Women Art Revolution  Zeitgeist Films     83.0   \n",
       "\n",
       "                                         description         release_date  \\\n",
       "0  Through intimate interviews, art, and rarely s...  2011-06-01 00:00:00   \n",
       "\n",
       "   year  \n",
       "0  2011  "
      ]
     },
     "execution_count": 24,
     "metadata": {},
     "output_type": "execute_result"
    }
   ],
   "source": [
    "import pandas as pd\n",
    "import psycopg2\n",
    "import warnings\n",
    "warnings.filterwarnings('ignore')\n",
    "\n",
    "conn = psycopg2.connect(dbname='imdb_movies')\n",
    "pd.read_sql(\"\"\"select * from movies limit 1\"\"\", conn)"
   ]
  },
  {
   "cell_type": "markdown",
   "id": "23271025-5de0-4a7b-97bc-62940787cead",
   "metadata": {},
   "source": [
    "We should also create our test database.  First create a test database by connecting to postgres, and issuing the following command."
   ]
  },
  {
   "cell_type": "markdown",
   "id": "fe817d11-4806-4d4a-b557-3f6284ea3781",
   "metadata": {},
   "source": [
    "```bash\n",
    "create database imdb_movies_test;\n",
    "```"
   ]
  },
  {
   "cell_type": "markdown",
   "id": "0474dd56-27b2-41b7-8008-1f41a53d040d",
   "metadata": {},
   "source": [
    "Then **log out of postgres**, and from bash, run the following."
   ]
  },
  {
   "cell_type": "markdown",
   "id": "af41db7f-8e3e-4f14-a144-f8652527ced2",
   "metadata": {},
   "source": [
    "> This will copy the tables and their structure to our `imdb_movies_test` database."
   ]
  },
  {
   "cell_type": "markdown",
   "id": "b9df743a-d878-4953-862e-f9e70fd6450c",
   "metadata": {},
   "source": [
    "```bash\n",
    "pg_dump -t actors imdb_movies | psql imdb_movies_test\n",
    "pg_dump -t directors imdb_movies | psql imdb_movies_test\n",
    "pg_dump -t movie_actors imdb_movies | psql imdb_movies_test\n",
    "pg_dump -t movie_directors imdb_movies | psql imdb_movies_test\n",
    "pg_dump -t movies imdb_movies | psql imdb_movies_test\n",
    "pg_dump -t writers imdb_movies | psql imdb_movies_test\n",
    "```"
   ]
  },
  {
   "cell_type": "markdown",
   "id": "d5d444b0-d4c1-4ddd-b688-ca9550a93650",
   "metadata": {},
   "source": [
    "# Building our initial resource"
   ]
  },
  {
   "cell_type": "markdown",
   "id": "88405749-2009-48b1-86e5-62e55c7422d7",
   "metadata": {},
   "source": [
    "Ok, now let's move onto our flask application."
   ]
  },
  {
   "cell_type": "markdown",
   "id": "b290584a-fe6a-414f-8ec8-f2382f6894a4",
   "metadata": {},
   "source": [
    "1. Building the first model\n",
    "\n",
    "* Create the Movie model, setting properties of\n",
    "    * `__table__ = 'movies'`\n",
    "    * `columns = [\"id\", \"title\", \"studio\", \"runtime\", \"description\", \"release_date\", \"year\"] `"
   ]
  },
  {
   "cell_type": "markdown",
   "id": "3b62b9e9-a6cf-4071-9985-4770ec21efdd",
   "metadata": {},
   "source": [
    "1. Begin by initializing a flask application.  Write it in the `api/__init__.py` file and use the `create_app` function, that takes an argument of the database name.\n",
    "\n",
    "2. Create a route (ie. an endpoint) such that the root_url returns the following string `welcome to the imdb movies app`.\n",
    "\n",
    "\n",
    "2. Bonus points for connecting to the database using the correct setup (ie. .env file, settings.py file, and a app.config.from_mapping like so:\n",
    "\n",
    "```\n",
    "app.config.from_mapping(\n",
    "    DATABASE= DB_NAME\n",
    ")\n",
    "```"
   ]
  },
  {
   "cell_type": "markdown",
   "id": "18c98e07-3312-4e67-a852-c5351342db13",
   "metadata": {},
   "source": [
    "You can see a similar filetree below (and mimicking it is fine), you just do not need a movies.db (or any .db file)."
   ]
  },
  {
   "cell_type": "markdown",
   "id": "6fa5cd1f-bc40-4c3c-b734-7102d8f8ae1a",
   "metadata": {},
   "source": [
    "<img src=\"./similar-organized.png\" width=\"30%\">"
   ]
  },
  {
   "cell_type": "code",
   "execution_count": null,
   "id": "a72f7afc-7649-46fb-aa63-9425f1f09997",
   "metadata": {},
   "outputs": [],
   "source": []
  }
 ],
 "metadata": {
  "kernelspec": {
   "display_name": "Python 3 (ipykernel)",
   "language": "python",
   "name": "python3"
  },
  "language_info": {
   "codemirror_mode": {
    "name": "ipython",
    "version": 3
   },
   "file_extension": ".py",
   "mimetype": "text/x-python",
   "name": "python",
   "nbconvert_exporter": "python",
   "pygments_lexer": "ipython3",
   "version": "3.9.12"
  }
 },
 "nbformat": 4,
 "nbformat_minor": 5
}
